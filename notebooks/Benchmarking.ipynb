{
 "cells": [
  {
   "cell_type": "code",
   "execution_count": 1,
   "metadata": {},
   "outputs": [],
   "source": [
    "%matplotlib notebook\n",
    "import logging\n",
    "logging.basicConfig()\n",
    "logger = logging.getLogger()\n",
    "logger.setLevel(logging.INFO)"
   ]
  },
  {
   "cell_type": "code",
   "execution_count": 2,
   "metadata": {},
   "outputs": [
    {
     "name": "stderr",
     "output_type": "stream",
     "text": [
      "/usr/local/lib/python3.7/site-packages/gensim/similarities/__init__.py:15: UserWarning: The gensim.similarities.levenshtein submodule is disabled, because the optional Levenshtein package <https://pypi.org/project/python-Levenshtein/> is unavailable. Install Levenhstein (e.g. `pip install python-Levenshtein`) to suppress this warning.\n",
      "  warnings.warn(msg)\n",
      "[nltk_data] Downloading package punkt to /root/nltk_data...\n",
      "[nltk_data]   Unzipping tokenizers/punkt.zip.\n",
      "[nltk_data] Downloading package averaged_perceptron_tagger to\n",
      "[nltk_data]     /root/nltk_data...\n",
      "[nltk_data]   Unzipping taggers/averaged_perceptron_tagger.zip.\n"
     ]
    }
   ],
   "source": [
    "import unittest\n",
    "import numpy as np\n",
    "import random\n",
    "import matplotlib.pyplot as plt\n",
    "import matplotlib.tri as tri\n",
    "from matplotlib import cm\n",
    "from mpl_toolkits.mplot3d import Axes3D\n",
    "from deepART import dataset, torch\n",
    "from deepART.torch import ProbART\n",
    "from deepART import probART\n",
    "import timeit\n",
    "import torch\n",
    "from concurrent.futures import ThreadPoolExecutor"
   ]
  },
  {
   "cell_type": "code",
   "execution_count": 3,
   "metadata": {},
   "outputs": [],
   "source": [
    "ndata = 100\n",
    "ndim = 27000*4"
   ]
  },
  {
   "cell_type": "code",
   "execution_count": 4,
   "metadata": {},
   "outputs": [],
   "source": [
    "# torch tensor\n",
    "data = torch.randint(low=0, high=1000, size=(ndata,ndim))/1000"
   ]
  },
  {
   "cell_type": "code",
   "execution_count": 5,
   "metadata": {},
   "outputs": [],
   "source": [
    "#numpy array\n",
    "data = np.random.rand(ndata,ndim)"
   ]
  },
  {
   "cell_type": "code",
   "execution_count": 6,
   "metadata": {},
   "outputs": [
    {
     "name": "stdout",
     "output_type": "stream",
     "text": [
      "Start testing...\n",
      "Total Neurons Learned: 50\n",
      "\n",
      "\n",
      "Training completed...Took:41.415720412999974\n"
     ]
    }
   ],
   "source": [
    "convergence = 5\n",
    "n=ndim\n",
    "neurons = 50\n",
    "rho = 0.5\n",
    "beta = 0.5\n",
    "alpha = 0.1\n",
    "main_executor = ThreadPoolExecutor(max_workers=32)\n",
    "\n",
    "network = probART.ProbART( n=n, m=neurons, rho=rho, alpha=alpha, beta=beta, comp=False, fastEncode=1)\n",
    "#network = ProbART( n=n, m=neurons, rho=rho, alpha=alpha, beta=beta, comp=False, fastEncode=1)\n",
    "#network.cuda()\n",
    "timer = timeit.Timer()\n",
    "print(\"Start testing...\")\n",
    "\n",
    "\n",
    "#convergence tracking variables\n",
    "prev_active = 0\n",
    "converge = 0\n",
    "results = []\n",
    "start_time = timer.timer()\n",
    "while True:\n",
    "    for I in data:\n",
    "        Z, k = network.fit_predict(I,threading=main_executor)\n",
    "        #Z, k = network.fit_predict(I)\n",
    "\n",
    "    if (prev_active < network.active):\n",
    "        prev_active = network.active\n",
    "        converge +=1\n",
    "        continue\n",
    "    else:\n",
    "        converge +=1\n",
    "        if converge > convergence:\n",
    "            print(\"Total Neurons Learned: {}\\n\\n\".format(network.active))\n",
    "            break\n",
    "#183.11420114199996\n",
    "#163.720597932\n",
    "print(\"Training completed...Took:{}\".format((timer.timer() - start_time)))"
   ]
  },
  {
   "cell_type": "code",
   "execution_count": 7,
   "metadata": {},
   "outputs": [
    {
     "data": {
      "text/plain": [
       "92.85858506666675"
      ]
     },
     "execution_count": 7,
     "metadata": {},
     "output_type": "execute_result"
    }
   ],
   "source": [
    "#numpy\n",
    "avg = np.mean([4.8344, 4.98877, 4.8410]) #10000\n",
    "avg = np.mean([93.38413996400027, 92.60151783900028, 92.59009739699968]) #27000*4\n",
    "avg\n"
   ]
  },
  {
   "cell_type": "code",
   "execution_count": 8,
   "metadata": {},
   "outputs": [
    {
     "data": {
      "text/plain": [
       "29.148314897999985"
      ]
     },
     "execution_count": 8,
     "metadata": {},
     "output_type": "execute_result"
    }
   ],
   "source": [
    "#numpy - multithread 20 workers\n",
    "avg = np.mean([3.8488126999999395, 3.6574866490000204, 3.7809610430000475]) #10000\n",
    "avg = np.mean([29.858683285, 28.780577772, 28.80568363699996]) #27000*4\n",
    "avg\n"
   ]
  },
  {
   "cell_type": "code",
   "execution_count": 9,
   "metadata": {},
   "outputs": [
    {
     "data": {
      "text/plain": [
       "3.8696513333333336"
      ]
     },
     "execution_count": 9,
     "metadata": {},
     "output_type": "execute_result"
    }
   ],
   "source": [
    "#pyTorch - no cuda\n",
    "avg = np.mean([3.8709, 3.926874, 3.81118])\n",
    "avg"
   ]
  },
  {
   "cell_type": "code",
   "execution_count": 10,
   "metadata": {},
   "outputs": [
    {
     "data": {
      "text/plain": [
       "54.04172847833312"
      ]
     },
     "execution_count": 10,
     "metadata": {},
     "output_type": "execute_result"
    }
   ],
   "source": [
    "#pyTorch - cuda\n",
    "avg = np.mean([24.2966, 23.8491, 24.16625])\n",
    "avg = np.mean([54.47145563999993, 53.82952262899971,53.824207165999724]) #27000*4\n",
    "avg"
   ]
  },
  {
   "cell_type": "code",
   "execution_count": null,
   "metadata": {},
   "outputs": [],
   "source": []
  }
 ],
 "metadata": {
  "kernelspec": {
   "display_name": "Python 3",
   "language": "python",
   "name": "python3"
  },
  "language_info": {
   "codemirror_mode": {
    "name": "ipython",
    "version": 3
   },
   "file_extension": ".py",
   "mimetype": "text/x-python",
   "name": "python",
   "nbconvert_exporter": "python",
   "pygments_lexer": "ipython3",
   "version": "3.7.10"
  }
 },
 "nbformat": 4,
 "nbformat_minor": 2
}
